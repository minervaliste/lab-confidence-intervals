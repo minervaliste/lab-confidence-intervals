{
 "cells": [
  {
   "cell_type": "markdown",
   "metadata": {},
   "source": [
    "# Confidence Intervals"
   ]
  },
  {
   "cell_type": "code",
   "execution_count": 24,
   "metadata": {},
   "outputs": [],
   "source": [
    "# Libraries\n",
    "import numpy as np\n",
    "from scipy import stats\n",
    "from scipy.stats import norm\n",
    "from scipy.stats import t\n",
    "from scipy.stats import chi2"
   ]
  },
  {
   "cell_type": "markdown",
   "metadata": {},
   "source": [
    "## Challenge 1\n",
    "We want to estimate the average size of the men of a country with a confidence level of 80%. Assuming that the standard deviation of the sizes in the population is 4, get the confidence interval with a sample of men selected randomly, whose heights are:\n",
    "\n",
    "````\n",
    "heights = [167, 167, 168, 168, 168, 169, 171, 172, 173, 175, 175, 175, 177, 182, 195]\n",
    "````\n",
    "\n",
    "**Hint**: function `stats.norm.interval` from `scipy` can help you get through this exercise. "
   ]
  },
  {
   "cell_type": "code",
   "execution_count": 25,
   "metadata": {},
   "outputs": [
    {
     "name": "stdout",
     "output_type": "stream",
     "text": [
      "172.07755663982695 174.85577669350639\n"
     ]
    }
   ],
   "source": [
    "# your code here\n",
    "\n",
    "##Our data\n",
    "heights = [167, 167, 168, 168, 168, 169, 171, 172, 173, 175, 175, 175, 177, 182, 195]\n",
    "mean_heights = np.mean(heights)\n",
    "std_heights = np.std(heights)\n",
    "std_pop = 4\n",
    "conf_interval=0.8\n",
    "n = len(heights)\n",
    "\n",
    "##Get the degrees of freedom -- to take out the bias (our population number is not our sample number)\n",
    "df = n-1\n",
    "\n",
    "##Alpha is a constant that is affected by the conf_interval. The idea is: whatever sample we take, 8 out of 10 will be inside\n",
    "##the conf_interval. All the \"x-axis\" OUTSIDE the conf_interval is our alpha. But we calculate each side, so its that measure\n",
    "##divided by 2.\n",
    "alpha = (1-conf_interval)/2\n",
    "\n",
    "##T comes from the T-table: http://lomen.con-text.co/t-table-chart/t-table-t-value-table.html\n",
    "t = 1.345\n",
    "\n",
    "##Now we are going to look for sigma (the standard deviation / square root of n). In this case we use the standard dev of the\n",
    "##whole population\n",
    "sigma = std_pop/np.sqrt(n)\n",
    "\n",
    "##We are now calculating the points in the X axis that define our confidence interval\n",
    "x = sigma*t\n",
    "\n",
    "max_int = mean_heights + x\n",
    "min_int = mean_heights - x\n",
    "\n",
    "print(min_int, max_int)"
   ]
  },
  {
   "cell_type": "code",
   "execution_count": 26,
   "metadata": {},
   "outputs": [
    {
     "name": "stdout",
     "output_type": "stream",
     "text": [
      "We estimate the average size of the men of the country to be between 172.14308590115726 and 174.79024743217607 with a confidence level of 80%.\n"
     ]
    }
   ],
   "source": [
    "#### NOW WITH THE SCIPY FORMULA!\n",
    "## stats.norm.interval(alpha = conf_interval, loc = mean - in this case, scale = sigma)\n",
    "interval = norm.interval(alpha = conf_interval, loc = mean_heights, scale = sigma)\n",
    "print('We estimate the average size of the men of the country to be between', interval[0], 'and', interval[1], 'with a confidence level of 80%.')"
   ]
  },
  {
   "cell_type": "markdown",
   "metadata": {},
   "source": [
    "## Challenge 2 \n",
    "In a sample of 105 shops selected randomly from an area, we note that 27 of them have had losses in this month. Get an interval for the proportion of businesses in the area with losses to a confidence level of 80% and a confidence level of 90%.\n",
    "\n",
    "**Hint**: function `stats.norm.interval` from `scipy` can help you get through this exercise. "
   ]
  },
  {
   "cell_type": "code",
   "execution_count": 27,
   "metadata": {},
   "outputs": [
    {
     "name": "stdout",
     "output_type": "stream",
     "text": [
      "We can say that there are between 0.20248138545542083 and 0.3118043288302934 shops in the area that had losses with a confidence level of 80%.\n"
     ]
    }
   ],
   "source": [
    "# your code here\n",
    "\n",
    "##Our data\n",
    "sample = 105\n",
    "loss_shops = 27\n",
    "prob_suc = loss_shops/sample\n",
    "conf_interval_2 = 0.8\n",
    "sigma2 = ((p*(1-p))/sample)**0.5\n",
    "\n",
    "#### Calculate 80%\n",
    "interval2 = norm.interval(alpha = conf_interval_2, loc = prob_suc, scale = sigma2)\n",
    "interval2\n",
    "print('We can say that there are between', interval2[0], 'and', interval2[1], 'shops in the area that had losses with a confidence level of 80%.')"
   ]
  },
  {
   "cell_type": "code",
   "execution_count": 28,
   "metadata": {},
   "outputs": [
    {
     "name": "stdout",
     "output_type": "stream",
     "text": [
      "We can say that there are between 0.1869856177645281 and 0.32730009652118613 shops in the area that had losses with a confidence level of 90%.\n"
     ]
    }
   ],
   "source": [
    "#### Calculate 90%\n",
    "interval3 = norm.interval(alpha = 0.9, loc = prob_suc, scale = sigma2)\n",
    "print('We can say that there are between', interval3[0], 'and', interval3[1], 'shops in the area that had losses with a confidence level of 90%.')\n"
   ]
  },
  {
   "cell_type": "markdown",
   "metadata": {},
   "source": [
    "## Challenge 3 - More practice\n",
    "For the same example in challenge 1, calculate a confidence interval for the variance at 90% level.\n",
    "\n",
    "**Hint**: function `stats.chi2.interval` from `scipy` can help you get through this exercise. "
   ]
  },
  {
   "cell_type": "code",
   "execution_count": 29,
   "metadata": {
    "scrolled": true
   },
   "outputs": [
    {
     "name": "stdout",
     "output_type": "stream",
     "text": [
      "The confidence interval for the variance at 90% level is between 31.992400675216064 and 115.32123613002646\n"
     ]
    }
   ],
   "source": [
    "# your code here\n",
    "\n",
    "##Our sample info\n",
    "heights = [167, 167, 168, 168, 168, 169, 171, 172, 173, 175, 175, 175, 177, 182, 195]\n",
    "mean=np.mean(heights)\n",
    "n = len(heights)\n",
    "\n",
    "##Our population info\n",
    "std=4\n",
    "\n",
    "##The formula: stats.chi2.interval(alpha, df, loc=0, scale=1)\n",
    "lower, upper = chi2.interval(0.9,df=(n-1))\n",
    "\n",
    "## Unbias the variance! We need to calculate it for the population, not for the sample\n",
    "unbiased_variance = (np.var(heights) * n) / (n-1)\n",
    "var_confidence1 = ((n-1) * unbiased_variance) / upper\n",
    "var_confidence2 = ((n-1) * unbiased_variance) / lower\n",
    "\n",
    "\n",
    "print('The confidence interval for the variance at 90% level is between', var_confidence1, 'and', var_confidence2)"
   ]
  },
  {
   "cell_type": "markdown",
   "metadata": {},
   "source": [
    "## Challenge 4 - More practice\n",
    "The sulfuric acid content of 7 similar containers is 9.8, 10.2, 10.4, 9.8, 10.0, 10.2 and 9.6 liters. Calculate a 95% confidence interval for the average content of all containers assuming an approximately normal distribution.\n",
    "\n",
    "```\n",
    "acid = [9.8, 10.2, 10.4, 9.8, 10.0, 10.2, 9.6]\n",
    "```\n",
    "\n",
    "**Hint**: function `stats.t.interval` from `scipy` can help you get through this exercise. "
   ]
  },
  {
   "cell_type": "code",
   "execution_count": 31,
   "metadata": {},
   "outputs": [
    {
     "name": "stdout",
     "output_type": "stream",
     "text": [
      "The 95% confidence interval for all containers is between 9.738414120176683 and 10.261585879823317\n"
     ]
    }
   ],
   "source": [
    "# your code here\n",
    "\n",
    "##Our sample info\n",
    "acid = [9.8, 10.2, 10.4, 9.8, 10.0, 10.2, 9.6]\n",
    "sample_mean=np.mean(acid)\n",
    "acid_std=np.std(acid, ddof=1) ##NOTE THAT IT IS NECESSARY TO CREATE AN UNBIASED STANDARD DEVIATION TO CALCULATE THE STANDARD ERROR MANUALLY\n",
    "sample_standard_error_manual = (acid_std/(n**0.5))\n",
    "sample_standard_error = stats.sem(acid) ##ANOTHER OPTION IS TO CALCULATE IT AUTOMATICALLY\n",
    "n = len(acid)\n",
    "\n",
    "##The formula: scipy.stats.t.interval(confidence_level, degrees_freedom, sample_mean, sample_standard_error)\n",
    "\n",
    "interval = stats.t.interval(0.95, (n-1), sample_mean, sample_standard_error)\n",
    "interval\n",
    "\n",
    "print('The 95% confidence interval for all containers is between', interval[0], 'and', interval[1])"
   ]
  },
  {
   "cell_type": "markdown",
   "metadata": {},
   "source": [
    "## Bonus Challenge\n",
    "The error level or sampling error for the first challenge is given by the following expression:\n",
    "$$Error = z_{\\frac{\\alpha}{2}}\\frac{\\sigma}{\\sqrt n}$$\n",
    "Where z represents the value for N(0,1)\n",
    "\n",
    "\n",
    "Suppose that with the previous data of challenge 1, and with a confidence level of\n",
    "99% (that is, almost certainly) we want to estimate the average population size, so that the error level committed is not greater than half a centimeter.\n",
    "\n",
    "#### 1.- Determine what size the selected sample of men should be."
   ]
  },
  {
   "cell_type": "code",
   "execution_count": null,
   "metadata": {},
   "outputs": [],
   "source": [
    "# your code here"
   ]
  },
  {
   "cell_type": "markdown",
   "metadata": {},
   "source": [
    "#### 2.- For the second challenge, we have the following error:\n",
    "$$ Error = z_{\\frac{\\alpha}{2}}\\sqrt{\\frac{p\\times q}{n}} $$\n",
    "#### Determine the sample size required to not exceed an error of 1% with a confidence of 80%."
   ]
  },
  {
   "cell_type": "code",
   "execution_count": null,
   "metadata": {},
   "outputs": [],
   "source": [
    "# your code here"
   ]
  },
  {
   "cell_type": "markdown",
   "metadata": {},
   "source": [
    "## Bonus Challenge\n",
    "\n",
    "Let's consider the following problem:\n",
    "\n",
    "Build a confidence interval of 94% for the real difference between the durations of two brands of spotlights, if a sample of 40 spotlights taken randomly from the first mark gave an average duration of 418 hours, and a sample of 50 bulbs of another brand gave a duration average of 402 hours. The standard deviations of the two\n",
    "populations are 26 hours and 22 hours, respectively.\n",
    "\n",
    "Sometimes, we will be interested in the difference of two different groups of random variables. We can also build a confidence interval for that! We have some different cases regarding the variance but for this specific case (the variance are different and known), we have that:\n",
    "\n",
    "$$\\overline{X} - \\overline{Y}  \\sim N(\\mu_{X} - \\mu_{Y} , \\sqrt{\\frac{\\sigma_{X}^2}{n_X}+\\frac{\\sigma_{Y}^2}{n_Y}})$$\n",
    "\n",
    "Solve the problem with this information."
   ]
  },
  {
   "cell_type": "code",
   "execution_count": null,
   "metadata": {},
   "outputs": [],
   "source": [
    "# your code here"
   ]
  }
 ],
 "metadata": {
  "kernelspec": {
   "display_name": "Python 3",
   "language": "python",
   "name": "python3"
  },
  "language_info": {
   "codemirror_mode": {
    "name": "ipython",
    "version": 3
   },
   "file_extension": ".py",
   "mimetype": "text/x-python",
   "name": "python",
   "nbconvert_exporter": "python",
   "pygments_lexer": "ipython3",
   "version": "3.7.4"
  }
 },
 "nbformat": 4,
 "nbformat_minor": 2
}
